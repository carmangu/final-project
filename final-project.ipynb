{
 "cells": [
  {
   "cell_type": "markdown",
   "metadata": {},
   "source": [
    "# TOBE UPDATED: NYC Taxi Trip Records using xxx algrithms"
   ]
  },
  {
   "cell_type": "markdown",
   "metadata": {},
   "source": [
    "## 1) About the data\n",
    "\n",
    "* The data set is publically available for free on NYC.gov\n",
    "* I was living in NYC for some time during my internship and visited for a few times, and took taxi for sure. However, I never think about Taxi in terms of Trip Records. The research is interesting to me and I would like to introduce the result to my NYC friends next time.\n",
    "* The data set is huge:\n",
    "    - It has 666376 rows and 19 columns, including all of the information about Taxi"
   ]
  },
  {
   "cell_type": "markdown",
   "metadata": {},
   "source": [
    "## 2) Link to the data set\n",
    "* NYC Taxi Limousine trip record data URL: https://www1.nyc.gov/site/tlc/about/tlc-trip-record-data.page\n",
    "* To download the data set: https://s3.amazonaws.com/nyc-tlc/trip+data/green_tripdata_2018-08.csv"
   ]
  },
  {
   "cell_type": "code",
   "execution_count": 1,
   "metadata": {},
   "outputs": [],
   "source": [
    "# Enter link here.\n",
    "nyc_gov_link = \"https://www1.nyc.gov/site/tlc/about/tlc-trip-record-data.page\"\n",
    "green_tripdata_download = \"https://s3.amazonaws.com/nyc-tlc/trip+data/green_tripdata_2018-08.csv\""
   ]
  },
  {
   "cell_type": "markdown",
   "metadata": {},
   "source": [
    "## 3) Import the data\n",
    "List the total rows and columns"
   ]
  },
  {
   "cell_type": "code",
   "execution_count": 2,
   "metadata": {},
   "outputs": [
    {
     "name": "stdout",
     "output_type": "stream",
     "text": [
      "There are 666376 rows and 19 columns.\n"
     ]
    }
   ],
   "source": [
    "#!/usr/bin/env python3\n",
    "# -*- coding: utf-8 -*-\n",
    "\n",
    "import numpy as np\n",
    "import pandas as pd\n",
    "import datetime as dt\n",
    "import os\n",
    "from scipy import stats\n",
    "import matplotlib.pyplot as plt\n",
    "\n",
    "# The dateset is 59MB, I downloaded to my local laptop to speed up.\n",
    "#url = \"/Users/Jingwen/Desktop/bioinfo-ML/green_tripdata_2015-09.csv\"\n",
    "url = \"/Users/Jingwen/Desktop/bioinfo-ML/green_tripdata_2018-08.csv\"\n",
    "\n",
    "data = pd.read_csv(url)\n",
    "\n",
    "# Report how many rows and columns of data you have loaded.\n",
    "print(\"There are\",data.shape[0],\"rows and\",data.shape[1],\"columns.\")"
   ]
  },
  {
   "cell_type": "markdown",
   "metadata": {},
   "source": [
    "## 4) Show the head of the data set"
   ]
  },
  {
   "cell_type": "code",
   "execution_count": 3,
   "metadata": {},
   "outputs": [
    {
     "data": {
      "text/html": [
       "<div>\n",
       "<style scoped>\n",
       "    .dataframe tbody tr th:only-of-type {\n",
       "        vertical-align: middle;\n",
       "    }\n",
       "\n",
       "    .dataframe tbody tr th {\n",
       "        vertical-align: top;\n",
       "    }\n",
       "\n",
       "    .dataframe thead th {\n",
       "        text-align: right;\n",
       "    }\n",
       "</style>\n",
       "<table border=\"1\" class=\"dataframe\">\n",
       "  <thead>\n",
       "    <tr style=\"text-align: right;\">\n",
       "      <th></th>\n",
       "      <th>VendorID</th>\n",
       "      <th>lpep_pickup_datetime</th>\n",
       "      <th>lpep_dropoff_datetime</th>\n",
       "      <th>store_and_fwd_flag</th>\n",
       "      <th>RatecodeID</th>\n",
       "      <th>PULocationID</th>\n",
       "      <th>DOLocationID</th>\n",
       "      <th>passenger_count</th>\n",
       "      <th>trip_distance</th>\n",
       "      <th>fare_amount</th>\n",
       "      <th>extra</th>\n",
       "      <th>mta_tax</th>\n",
       "      <th>tip_amount</th>\n",
       "      <th>tolls_amount</th>\n",
       "      <th>ehail_fee</th>\n",
       "      <th>improvement_surcharge</th>\n",
       "      <th>total_amount</th>\n",
       "      <th>payment_type</th>\n",
       "      <th>trip_type</th>\n",
       "    </tr>\n",
       "  </thead>\n",
       "  <tbody>\n",
       "    <tr>\n",
       "      <th>0</th>\n",
       "      <td>2</td>\n",
       "      <td>2018-08-01 00:03:22</td>\n",
       "      <td>2018-08-01 00:17:59</td>\n",
       "      <td>N</td>\n",
       "      <td>1</td>\n",
       "      <td>255</td>\n",
       "      <td>49</td>\n",
       "      <td>1</td>\n",
       "      <td>3.54</td>\n",
       "      <td>13.5</td>\n",
       "      <td>0.5</td>\n",
       "      <td>0.5</td>\n",
       "      <td>2.96</td>\n",
       "      <td>0.0</td>\n",
       "      <td>NaN</td>\n",
       "      <td>0.3</td>\n",
       "      <td>17.76</td>\n",
       "      <td>1</td>\n",
       "      <td>1</td>\n",
       "    </tr>\n",
       "    <tr>\n",
       "      <th>1</th>\n",
       "      <td>2</td>\n",
       "      <td>2018-08-01 00:37:08</td>\n",
       "      <td>2018-08-01 00:46:53</td>\n",
       "      <td>N</td>\n",
       "      <td>1</td>\n",
       "      <td>256</td>\n",
       "      <td>112</td>\n",
       "      <td>1</td>\n",
       "      <td>1.94</td>\n",
       "      <td>8.5</td>\n",
       "      <td>0.5</td>\n",
       "      <td>0.5</td>\n",
       "      <td>1.96</td>\n",
       "      <td>0.0</td>\n",
       "      <td>NaN</td>\n",
       "      <td>0.3</td>\n",
       "      <td>11.76</td>\n",
       "      <td>1</td>\n",
       "      <td>1</td>\n",
       "    </tr>\n",
       "    <tr>\n",
       "      <th>2</th>\n",
       "      <td>2</td>\n",
       "      <td>2018-08-01 00:12:45</td>\n",
       "      <td>2018-08-01 00:20:21</td>\n",
       "      <td>N</td>\n",
       "      <td>1</td>\n",
       "      <td>146</td>\n",
       "      <td>7</td>\n",
       "      <td>2</td>\n",
       "      <td>1.37</td>\n",
       "      <td>7.0</td>\n",
       "      <td>0.5</td>\n",
       "      <td>0.5</td>\n",
       "      <td>0.00</td>\n",
       "      <td>0.0</td>\n",
       "      <td>NaN</td>\n",
       "      <td>0.3</td>\n",
       "      <td>8.30</td>\n",
       "      <td>2</td>\n",
       "      <td>1</td>\n",
       "    </tr>\n",
       "    <tr>\n",
       "      <th>3</th>\n",
       "      <td>2</td>\n",
       "      <td>2018-08-01 00:21:29</td>\n",
       "      <td>2018-08-01 00:27:41</td>\n",
       "      <td>N</td>\n",
       "      <td>1</td>\n",
       "      <td>7</td>\n",
       "      <td>260</td>\n",
       "      <td>2</td>\n",
       "      <td>1.10</td>\n",
       "      <td>6.5</td>\n",
       "      <td>0.5</td>\n",
       "      <td>0.5</td>\n",
       "      <td>0.00</td>\n",
       "      <td>0.0</td>\n",
       "      <td>NaN</td>\n",
       "      <td>0.3</td>\n",
       "      <td>7.80</td>\n",
       "      <td>2</td>\n",
       "      <td>1</td>\n",
       "    </tr>\n",
       "    <tr>\n",
       "      <th>4</th>\n",
       "      <td>2</td>\n",
       "      <td>2018-08-01 00:03:24</td>\n",
       "      <td>2018-08-01 00:06:44</td>\n",
       "      <td>N</td>\n",
       "      <td>1</td>\n",
       "      <td>256</td>\n",
       "      <td>256</td>\n",
       "      <td>1</td>\n",
       "      <td>0.56</td>\n",
       "      <td>4.5</td>\n",
       "      <td>0.5</td>\n",
       "      <td>0.5</td>\n",
       "      <td>1.74</td>\n",
       "      <td>0.0</td>\n",
       "      <td>NaN</td>\n",
       "      <td>0.3</td>\n",
       "      <td>7.54</td>\n",
       "      <td>1</td>\n",
       "      <td>1</td>\n",
       "    </tr>\n",
       "  </tbody>\n",
       "</table>\n",
       "</div>"
      ],
      "text/plain": [
       "   VendorID lpep_pickup_datetime lpep_dropoff_datetime store_and_fwd_flag  \\\n",
       "0         2  2018-08-01 00:03:22   2018-08-01 00:17:59                  N   \n",
       "1         2  2018-08-01 00:37:08   2018-08-01 00:46:53                  N   \n",
       "2         2  2018-08-01 00:12:45   2018-08-01 00:20:21                  N   \n",
       "3         2  2018-08-01 00:21:29   2018-08-01 00:27:41                  N   \n",
       "4         2  2018-08-01 00:03:24   2018-08-01 00:06:44                  N   \n",
       "\n",
       "   RatecodeID  PULocationID  DOLocationID  passenger_count  trip_distance  \\\n",
       "0           1           255            49                1           3.54   \n",
       "1           1           256           112                1           1.94   \n",
       "2           1           146             7                2           1.37   \n",
       "3           1             7           260                2           1.10   \n",
       "4           1           256           256                1           0.56   \n",
       "\n",
       "   fare_amount  extra  mta_tax  tip_amount  tolls_amount  ehail_fee  \\\n",
       "0         13.5    0.5      0.5        2.96           0.0        NaN   \n",
       "1          8.5    0.5      0.5        1.96           0.0        NaN   \n",
       "2          7.0    0.5      0.5        0.00           0.0        NaN   \n",
       "3          6.5    0.5      0.5        0.00           0.0        NaN   \n",
       "4          4.5    0.5      0.5        1.74           0.0        NaN   \n",
       "\n",
       "   improvement_surcharge  total_amount  payment_type  trip_type  \n",
       "0                    0.3         17.76             1          1  \n",
       "1                    0.3         11.76             1          1  \n",
       "2                    0.3          8.30             2          1  \n",
       "3                    0.3          7.80             2          1  \n",
       "4                    0.3          7.54             1          1  "
      ]
     },
     "execution_count": 3,
     "metadata": {},
     "output_type": "execute_result"
    }
   ],
   "source": [
    "data.head()"
   ]
  },
  {
   "cell_type": "markdown",
   "metadata": {},
   "source": [
    "## 5) Show me the shape of your data\n",
    "* Size of the Data Set\n",
    "* Shape of the Data Set\n",
    "* Data Types of the Data Set"
   ]
  },
  {
   "cell_type": "code",
   "execution_count": 31,
   "metadata": {},
   "outputs": [
    {
     "name": "stdout",
     "output_type": "stream",
     "text": [
      "Size = 12661144\n",
      "Shape =(666376, 19)\n",
      "Shape[0] x Shape[1] = 12661144\n",
      "\n",
      "data types\n",
      "VendorID                   int64\n",
      "lpep_pickup_datetime      object\n",
      "lpep_dropoff_datetime     object\n",
      "store_and_fwd_flag        object\n",
      "RatecodeID                 int64\n",
      "PULocationID               int64\n",
      "DOLocationID               int64\n",
      "passenger_count            int64\n",
      "trip_distance            float64\n",
      "fare_amount              float64\n",
      "extra                    float64\n",
      "mta_tax                  float64\n",
      "tip_amount               float64\n",
      "tolls_amount             float64\n",
      "ehail_fee                float64\n",
      "improvement_surcharge    float64\n",
      "total_amount             float64\n",
      "payment_type               int64\n",
      "trip_type                  int64\n",
      "dtype: object\n",
      "\n"
     ]
    }
   ],
   "source": [
    "# data.size \n",
    "size = data.size \n",
    "  \n",
    "# data.shape \n",
    "shape = data.shape \n",
    "  \n",
    "# printing size and shape \n",
    "print(\"Size = {}\\nShape ={}\\nShape[0] x Shape[1] = {}\\n\". \n",
    "      format(size, shape, shape[0]*shape[1])) \n",
    "\n",
    "# data.dtypes\n",
    "dtypes = data.dtypes\n",
    "print(\"data types\\n{}\\n\". \n",
    "      format(dtypes))"
   ]
  },
  {
   "cell_type": "code",
   "execution_count": 32,
   "metadata": {},
   "outputs": [
    {
     "data": {
      "image/png": "[encoded data removed]",
      "text/plain": [
       "<Figure size 864x216 with 2 Axes>"
      ]
     },
     "metadata": {},
     "output_type": "display_data"
    }
   ],
   "source": [
    "plt.figure(1, figsize=(12, 3))\n",
    "\n",
    "def plotHistogram(data):\n",
    "    plt.subplot(121)\n",
    "    plt.hist(data.trip_distance,\n",
    "             bins=30,\n",
    "             log=True,\n",
    "             color='steelblue',\n",
    "             edgecolor='k',)\n",
    "    plt.xlabel('Trip Distance(miles)')\n",
    "    plt.ylabel('Count')\n",
    "    plt.grid(True)\n",
    "    plt.title('Histogram of Trip Distance')\n",
    "\n",
    "plotHistogram(data)\n",
    "\n",
    "def findStructure(data):\n",
    "    plt.subplot(122)\n",
    "\n",
    "    x = data.trip_distance \n",
    "    x_norm = x[~((x-x.median()).abs()>3*x.std())]\n",
    "\n",
    "    plt.hist(x_norm, \n",
    "              bins=30,\n",
    "              color='steelblue',\n",
    "              edgecolor='k',\n",
    "              #normed=True,\n",
    "              density=True,\n",
    "              alpha=0.75)\n",
    "    plt.xlabel('Trip Distance(miles)')\n",
    "    plt.ylabel('Probability')\n",
    "    plt.grid(True)\n",
    "    plt.title('Histogram of Trip Distance (No outliers)')\n",
    "    \n",
    "    # Fit a curve to the variates\n",
    "    shape, loc, scale = stats.lognorm.fit(x, loc=0) \n",
    "\n",
    "    y = np.linspace(x_norm.min(), x_norm.max(), num=500)\n",
    "    pdf = stats.lognorm.pdf(y, shape, scale=np.exp(np.log(data.trip_distance.median())))\n",
    "    \n",
    "    # Plot fitted curve\n",
    "    plt.plot(y, pdf, 'r--', linewidth=2) \n",
    "    \n",
    "    # Get axis handle for text positioning\n",
    "    ax = plt.gca() \n",
    "    \n",
    "findStructure(data)\n",
    "plt.show()    "
   ]
  },
  {
   "cell_type": "code",
   "execution_count": 39,
   "metadata": {},
   "outputs": [
    {
     "name": "stdout",
     "output_type": "stream",
     "text": [
      "[1 2 6 5 3 4 0 7 8 9]\n"
     ]
    }
   ],
   "source": [
    "print(data['passenger_count'].unique())"
   ]
  },
  {
   "cell_type": "code",
   "execution_count": 40,
   "metadata": {},
   "outputs": [
    {
     "name": "stdout",
     "output_type": "stream",
     "text": [
      "                 VendorID  lpep_pickup_datetime  lpep_dropoff_datetime  \\\n",
      "passenger_count                                                          \n",
      "0                     851                   851                    851   \n",
      "1                  565196                565196                 565196   \n",
      "2                   52253                 52253                  52253   \n",
      "3                   10355                 10355                  10355   \n",
      "4                    3605                  3605                   3605   \n",
      "5                   21911                 21911                  21911   \n",
      "6                   12187                 12187                  12187   \n",
      "7                      10                    10                     10   \n",
      "8                       6                     6                      6   \n",
      "9                       2                     2                      2   \n",
      "\n",
      "                 store_and_fwd_flag  RatecodeID  PULocationID  DOLocationID  \\\n",
      "passenger_count                                                               \n",
      "0                               851         851           851           851   \n",
      "1                            565196      565196        565196        565196   \n",
      "2                             52253       52253         52253         52253   \n",
      "3                             10355       10355         10355         10355   \n",
      "4                              3605        3605          3605          3605   \n",
      "5                             21911       21911         21911         21911   \n",
      "6                             12187       12187         12187         12187   \n",
      "7                                10          10            10            10   \n",
      "8                                 6           6             6             6   \n",
      "9                                 2           2             2             2   \n",
      "\n",
      "                 trip_distance  fare_amount   extra  mta_tax  tip_amount  \\\n",
      "passenger_count                                                            \n",
      "0                          851          851     851      851         851   \n",
      "1                       565196       565196  565196   565196      565196   \n",
      "2                        52253        52253   52253    52253       52253   \n",
      "3                        10355        10355   10355    10355       10355   \n",
      "4                         3605         3605    3605     3605        3605   \n",
      "5                        21911        21911   21911    21911       21911   \n",
      "6                        12187        12187   12187    12187       12187   \n",
      "7                           10           10      10       10          10   \n",
      "8                            6            6       6        6           6   \n",
      "9                            2            2       2        2           2   \n",
      "\n",
      "                 tolls_amount  ehail_fee  improvement_surcharge  total_amount  \\\n",
      "passenger_count                                                                 \n",
      "0                         851          0                    851           851   \n",
      "1                      565196          0                 565196        565196   \n",
      "2                       52253          0                  52253         52253   \n",
      "3                       10355          0                  10355         10355   \n",
      "4                        3605          0                   3605          3605   \n",
      "5                       21911          0                  21911         21911   \n",
      "6                       12187          0                  12187         12187   \n",
      "7                          10          0                     10            10   \n",
      "8                           6          0                      6             6   \n",
      "9                           2          0                      2             2   \n",
      "\n",
      "                 payment_type  trip_type  \n",
      "passenger_count                           \n",
      "0                         851        851  \n",
      "1                      565196     565196  \n",
      "2                       52253      52253  \n",
      "3                       10355      10355  \n",
      "4                        3605       3605  \n",
      "5                       21911      21911  \n",
      "6                       12187      12187  \n",
      "7                          10         10  \n",
      "8                           6          6  \n",
      "9                           2          2  \n"
     ]
    }
   ],
   "source": [
    "print(data.groupby('passenger_count').count())"
   ]
  },
  {
   "cell_type": "code",
   "execution_count": 37,
   "metadata": {},
   "outputs": [
    {
     "name": "stdout",
     "output_type": "stream",
     "text": [
      "passenger_count\n",
      "0       851\n",
      "1    565196\n",
      "2     52253\n",
      "3     10355\n",
      "4      3605\n",
      "5     21911\n",
      "6     12187\n",
      "7        10\n",
      "8         6\n",
      "9         2\n",
      "Name: VendorID, dtype: int64\n"
     ]
    }
   ],
   "source": [
    "data_pie_percentage = data.groupby('passenger_count').count()['VendorID']\n",
    "print(data_pie_percentage)"
   ]
  },
  {
   "cell_type": "code",
   "execution_count": 41,
   "metadata": {},
   "outputs": [
    {
     "data": {
      "image/png": "[encoded data removed]",
      "text/plain": [
       "<Figure size 432x288 with 1 Axes>"
      ]
     },
     "metadata": {},
     "output_type": "display_data"
    }
   ],
   "source": [
    "labels = [0,1,2,3,4,5,6,7,8,9]\n",
    "sizes = data_pie_percentage\n",
    "explode = (0, 0, 0.1, 0.1, 0.1, 0.1, 0.1, 0.1, 0.1, 0.1)  \n",
    "\n",
    "fig1, ax1 = plt.subplots()\n",
    "ax1.pie(sizes, explode=explode, labels=labels, autopct='%1.1f%%',\n",
    "        shadow=True, startangle=90)\n",
    "ax1.axis('equal')  # Equal aspect ratio ensures that pie is drawn as a circle.\n",
    "\n",
    "plt.show()"
   ]
  },
  {
   "cell_type": "code",
   "execution_count": 43,
   "metadata": {},
   "outputs": [
    {
     "name": "stdout",
     "output_type": "stream",
     "text": [
      "                 VendorID  RatecodeID  PULocationID  DOLocationID  \\\n",
      "passenger_count                                                     \n",
      "0                1.078731    1.346651    105.412456    116.674501   \n",
      "1                1.843863    1.134813    110.389663    128.457360   \n",
      "2                1.813771    1.110309    110.128988    127.773850   \n",
      "3                1.770449    1.161854    110.592757    129.347755   \n",
      "4                1.752011    1.224965    109.701248    130.659362   \n",
      "5                1.998722    1.042490    119.247091    131.898590   \n",
      "6                1.998195    1.006564    110.301305    131.590793   \n",
      "7                2.000000    5.000000    162.400000    165.800000   \n",
      "8                2.000000    5.000000    176.833333    193.666667   \n",
      "9                2.000000    5.000000    257.500000    253.500000   \n",
      "\n",
      "                 trip_distance  fare_amount     extra   mta_tax  tip_amount  \\\n",
      "passenger_count                                                               \n",
      "0                     3.098296    14.543302  0.285546  0.456522    1.530787   \n",
      "1                     3.381939    13.826745  0.332222  0.489097    0.983794   \n",
      "2                     3.422341    14.051160  0.363376  0.483781    1.090821   \n",
      "3                     3.456126    14.353394  0.354273  0.476581    0.917420   \n",
      "4                     3.600702    14.627723  0.345770  0.469348    0.915024   \n",
      "5                     3.473382    14.193522  0.371777  0.491534    1.038672   \n",
      "6                     3.115148    13.189346  0.316690  0.497785    1.027445   \n",
      "7                     0.774000    26.209000  0.000000  0.000000    0.875000   \n",
      "8                     3.943333    19.500000  0.000000  0.083333    9.466667   \n",
      "9                     2.180000    49.500000  0.000000  0.000000    2.500000   \n",
      "\n",
      "                 tolls_amount  ehail_fee  improvement_surcharge  total_amount  \\\n",
      "passenger_count                                                                 \n",
      "0                    0.081504        NaN               0.274971     17.172632   \n",
      "1                    0.204955        NaN               0.288300     16.148798   \n",
      "2                    0.223479        NaN               0.290670     16.529571   \n",
      "3                    0.208227        NaN               0.286296     16.619109   \n",
      "4                    0.233298        NaN               0.282275     16.899692   \n",
      "5                    0.228227        NaN               0.295222     16.654380   \n",
      "6                    0.200674        NaN               0.298794     15.571646   \n",
      "7                    0.000000        NaN               0.000000     27.279000   \n",
      "8                    0.000000        NaN               0.050000     29.100000   \n",
      "9                    0.000000        NaN               0.000000     52.000000   \n",
      "\n",
      "                 payment_type  trip_type  \n",
      "passenger_count                           \n",
      "0                    1.468860   1.085781  \n",
      "1                    1.446436   1.033410  \n",
      "2                    1.471782   1.025549  \n",
      "3                    1.508353   1.041816  \n",
      "4                    1.563107   1.053537  \n",
      "5                    1.428324   1.008808  \n",
      "6                    1.426930   1.000738  \n",
      "7                    1.400000   2.000000  \n",
      "8                    1.333333   1.833333  \n",
      "9                    1.500000   2.000000  \n"
     ]
    }
   ],
   "source": [
    "print(data.groupby('passenger_count').mean())\n",
    "data_pie_fare_amount = data.groupby('passenger_count').mean()"
   ]
  },
  {
   "cell_type": "code",
   "execution_count": null,
   "metadata": {},
   "outputs": [],
   "source": [
    "labels = [0,1,2,3,4,5,6,7,8,9]\n",
    "sizes = data_pie\n",
    "explode = (0, 0, 0.1, 0.1, 0.1, 0.1, 0.1, 0.1, 0.1, 0.1)  \n",
    "\n",
    "fig1, ax1 = plt.subplots()\n",
    "ax1.pie(sizes, explode=explode, labels=labels, autopct='%1.1f%%',\n",
    "        shadow=True, startangle=90)\n",
    "ax1.axis('equal')  # Equal aspect ratio ensures that pie is drawn as a circle.\n",
    "\n",
    "plt.show()"
   ]
  },
  {
   "cell_type": "markdown",
   "metadata": {},
   "source": [
    "## 6) Show me the proportion of missing observations for each column of your data"
   ]
  },
  {
   "cell_type": "code",
   "execution_count": 26,
   "metadata": {},
   "outputs": [
    {
     "name": "stdout",
     "output_type": "stream",
     "text": [
      "0.0007459363532650561\n"
     ]
    }
   ],
   "source": [
    "print(data_pie[0]/data_pie.sum())"
   ]
  },
  {
   "cell_type": "markdown",
   "metadata": {},
   "source": [
    "## 7) Give me a problem statement.\n",
    "Below, write a problem statement. Keep in mind that your task is to tease out relationships in your data and eventually build a predictive model. Your problem statement can be vague, but you should have a goal in mind. Your problem statement should be between one sentence and one paragraph."
   ]
  },
  {
   "cell_type": "markdown",
   "metadata": {},
   "source": [
    "## 8) What is your _y_-variable?\n",
    "For final project, you will need to perform a statistical model. This means you will have to accurately predict some y-variable for some combination of x-variables. From your problem statement in part 7, what is that y-variable?"
   ]
  }
 ],
 "metadata": {
  "kernelspec": {
   "display_name": "Python 3",
   "language": "python",
   "name": "python3"
  },
  "language_info": {
   "codemirror_mode": {
    "name": "ipython",
    "version": 3
   },
   "file_extension": ".py",
   "mimetype": "text/x-python",
   "name": "python",
   "nbconvert_exporter": "python",
   "pygments_lexer": "ipython3",
   "version": "3.6.5"
  }
 },
 "nbformat": 4,
 "nbformat_minor": 4
}
